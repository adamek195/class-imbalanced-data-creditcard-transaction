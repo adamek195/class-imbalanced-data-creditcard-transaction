{
  "cells": [
    {
      "cell_type": "markdown",
      "metadata": {
        "id": "uF3BJLBxwra4"
      },
      "source": [
        "# Multilayer perceptron"
      ]
    },
    {
      "cell_type": "markdown",
      "metadata": {
        "id": "Rb6OBi_FxPb2"
      },
      "source": [
        "## Data from Google Drive"
      ]
    },
    {
      "cell_type": "code",
      "execution_count": null,
      "metadata": {
        "colab": {
          "base_uri": "https://localhost:8080/"
        },
        "id": "UDjpasS8xEJU",
        "outputId": "d5cdf5d3-3fac-4bc7-cd33-679d575d9476"
      },
      "outputs": [
        {
          "name": "stdout",
          "output_type": "stream",
          "text": [
            "Drive already mounted at /content/gdrive; to attempt to forcibly remount, call drive.mount(\"/content/gdrive\", force_remount=True).\n"
          ]
        }
      ],
      "source": [
        "from google.colab import drive\n",
        "drive.mount('/content/gdrive')\n",
        "\n",
        "PATH = '/content/gdrive/MyDrive/Creditcard_data/creditcard.csv';"
      ]
    },
    {
      "cell_type": "markdown",
      "metadata": {
        "id": "Rl_Ev79Fw3pC"
      },
      "source": [
        "## Credit card data"
      ]
    },
    {
      "cell_type": "code",
      "execution_count": null,
      "metadata": {
        "colab": {
          "base_uri": "https://localhost:8080/",
          "height": 235
        },
        "id": "QC44GFE7xd_8",
        "outputId": "7912ec60-1e15-4d2d-a9d7-a36a638045c0"
      },
      "outputs": [
        {
          "data": {
            "text/html": [
              "\n",
              "  <div id=\"df-af489b72-d7a5-4795-b4e7-132ce4f3884f\">\n",
              "    <div class=\"colab-df-container\">\n",
              "      <div>\n",
              "<style scoped>\n",
              "    .dataframe tbody tr th:only-of-type {\n",
              "        vertical-align: middle;\n",
              "    }\n",
              "\n",
              "    .dataframe tbody tr th {\n",
              "        vertical-align: top;\n",
              "    }\n",
              "\n",
              "    .dataframe thead th {\n",
              "        text-align: right;\n",
              "    }\n",
              "</style>\n",
              "<table border=\"1\" class=\"dataframe\">\n",
              "  <thead>\n",
              "    <tr style=\"text-align: right;\">\n",
              "      <th></th>\n",
              "      <th>Time</th>\n",
              "      <th>V1</th>\n",
              "      <th>V2</th>\n",
              "      <th>V3</th>\n",
              "      <th>V4</th>\n",
              "      <th>V5</th>\n",
              "      <th>V6</th>\n",
              "      <th>V7</th>\n",
              "      <th>V8</th>\n",
              "      <th>V9</th>\n",
              "      <th>...</th>\n",
              "      <th>V21</th>\n",
              "      <th>V22</th>\n",
              "      <th>V23</th>\n",
              "      <th>V24</th>\n",
              "      <th>V25</th>\n",
              "      <th>V26</th>\n",
              "      <th>V27</th>\n",
              "      <th>V28</th>\n",
              "      <th>Amount</th>\n",
              "      <th>Class</th>\n",
              "    </tr>\n",
              "  </thead>\n",
              "  <tbody>\n",
              "    <tr>\n",
              "      <th>0</th>\n",
              "      <td>0.0</td>\n",
              "      <td>-1.359807</td>\n",
              "      <td>-0.072781</td>\n",
              "      <td>2.536347</td>\n",
              "      <td>1.378155</td>\n",
              "      <td>-0.338321</td>\n",
              "      <td>0.462388</td>\n",
              "      <td>0.239599</td>\n",
              "      <td>0.098698</td>\n",
              "      <td>0.363787</td>\n",
              "      <td>...</td>\n",
              "      <td>-0.018307</td>\n",
              "      <td>0.277838</td>\n",
              "      <td>-0.110474</td>\n",
              "      <td>0.066928</td>\n",
              "      <td>0.128539</td>\n",
              "      <td>-0.189115</td>\n",
              "      <td>0.133558</td>\n",
              "      <td>-0.021053</td>\n",
              "      <td>149.62</td>\n",
              "      <td>0</td>\n",
              "    </tr>\n",
              "    <tr>\n",
              "      <th>1</th>\n",
              "      <td>0.0</td>\n",
              "      <td>1.191857</td>\n",
              "      <td>0.266151</td>\n",
              "      <td>0.166480</td>\n",
              "      <td>0.448154</td>\n",
              "      <td>0.060018</td>\n",
              "      <td>-0.082361</td>\n",
              "      <td>-0.078803</td>\n",
              "      <td>0.085102</td>\n",
              "      <td>-0.255425</td>\n",
              "      <td>...</td>\n",
              "      <td>-0.225775</td>\n",
              "      <td>-0.638672</td>\n",
              "      <td>0.101288</td>\n",
              "      <td>-0.339846</td>\n",
              "      <td>0.167170</td>\n",
              "      <td>0.125895</td>\n",
              "      <td>-0.008983</td>\n",
              "      <td>0.014724</td>\n",
              "      <td>2.69</td>\n",
              "      <td>0</td>\n",
              "    </tr>\n",
              "    <tr>\n",
              "      <th>2</th>\n",
              "      <td>1.0</td>\n",
              "      <td>-1.358354</td>\n",
              "      <td>-1.340163</td>\n",
              "      <td>1.773209</td>\n",
              "      <td>0.379780</td>\n",
              "      <td>-0.503198</td>\n",
              "      <td>1.800499</td>\n",
              "      <td>0.791461</td>\n",
              "      <td>0.247676</td>\n",
              "      <td>-1.514654</td>\n",
              "      <td>...</td>\n",
              "      <td>0.247998</td>\n",
              "      <td>0.771679</td>\n",
              "      <td>0.909412</td>\n",
              "      <td>-0.689281</td>\n",
              "      <td>-0.327642</td>\n",
              "      <td>-0.139097</td>\n",
              "      <td>-0.055353</td>\n",
              "      <td>-0.059752</td>\n",
              "      <td>378.66</td>\n",
              "      <td>0</td>\n",
              "    </tr>\n",
              "    <tr>\n",
              "      <th>3</th>\n",
              "      <td>1.0</td>\n",
              "      <td>-0.966272</td>\n",
              "      <td>-0.185226</td>\n",
              "      <td>1.792993</td>\n",
              "      <td>-0.863291</td>\n",
              "      <td>-0.010309</td>\n",
              "      <td>1.247203</td>\n",
              "      <td>0.237609</td>\n",
              "      <td>0.377436</td>\n",
              "      <td>-1.387024</td>\n",
              "      <td>...</td>\n",
              "      <td>-0.108300</td>\n",
              "      <td>0.005274</td>\n",
              "      <td>-0.190321</td>\n",
              "      <td>-1.175575</td>\n",
              "      <td>0.647376</td>\n",
              "      <td>-0.221929</td>\n",
              "      <td>0.062723</td>\n",
              "      <td>0.061458</td>\n",
              "      <td>123.50</td>\n",
              "      <td>0</td>\n",
              "    </tr>\n",
              "    <tr>\n",
              "      <th>4</th>\n",
              "      <td>2.0</td>\n",
              "      <td>-1.158233</td>\n",
              "      <td>0.877737</td>\n",
              "      <td>1.548718</td>\n",
              "      <td>0.403034</td>\n",
              "      <td>-0.407193</td>\n",
              "      <td>0.095921</td>\n",
              "      <td>0.592941</td>\n",
              "      <td>-0.270533</td>\n",
              "      <td>0.817739</td>\n",
              "      <td>...</td>\n",
              "      <td>-0.009431</td>\n",
              "      <td>0.798278</td>\n",
              "      <td>-0.137458</td>\n",
              "      <td>0.141267</td>\n",
              "      <td>-0.206010</td>\n",
              "      <td>0.502292</td>\n",
              "      <td>0.219422</td>\n",
              "      <td>0.215153</td>\n",
              "      <td>69.99</td>\n",
              "      <td>0</td>\n",
              "    </tr>\n",
              "  </tbody>\n",
              "</table>\n",
              "<p>5 rows × 31 columns</p>\n",
              "</div>\n",
              "      <button class=\"colab-df-convert\" onclick=\"convertToInteractive('df-af489b72-d7a5-4795-b4e7-132ce4f3884f')\"\n",
              "              title=\"Convert this dataframe to an interactive table.\"\n",
              "              style=\"display:none;\">\n",
              "        \n",
              "  <svg xmlns=\"http://www.w3.org/2000/svg\" height=\"24px\"viewBox=\"0 0 24 24\"\n",
              "       width=\"24px\">\n",
              "    <path d=\"M0 0h24v24H0V0z\" fill=\"none\"/>\n",
              "    <path d=\"M18.56 5.44l.94 2.06.94-2.06 2.06-.94-2.06-.94-.94-2.06-.94 2.06-2.06.94zm-11 1L8.5 8.5l.94-2.06 2.06-.94-2.06-.94L8.5 2.5l-.94 2.06-2.06.94zm10 10l.94 2.06.94-2.06 2.06-.94-2.06-.94-.94-2.06-.94 2.06-2.06.94z\"/><path d=\"M17.41 7.96l-1.37-1.37c-.4-.4-.92-.59-1.43-.59-.52 0-1.04.2-1.43.59L10.3 9.45l-7.72 7.72c-.78.78-.78 2.05 0 2.83L4 21.41c.39.39.9.59 1.41.59.51 0 1.02-.2 1.41-.59l7.78-7.78 2.81-2.81c.8-.78.8-2.07 0-2.86zM5.41 20L4 18.59l7.72-7.72 1.47 1.35L5.41 20z\"/>\n",
              "  </svg>\n",
              "      </button>\n",
              "      \n",
              "  <style>\n",
              "    .colab-df-container {\n",
              "      display:flex;\n",
              "      flex-wrap:wrap;\n",
              "      gap: 12px;\n",
              "    }\n",
              "\n",
              "    .colab-df-convert {\n",
              "      background-color: #E8F0FE;\n",
              "      border: none;\n",
              "      border-radius: 50%;\n",
              "      cursor: pointer;\n",
              "      display: none;\n",
              "      fill: #1967D2;\n",
              "      height: 32px;\n",
              "      padding: 0 0 0 0;\n",
              "      width: 32px;\n",
              "    }\n",
              "\n",
              "    .colab-df-convert:hover {\n",
              "      background-color: #E2EBFA;\n",
              "      box-shadow: 0px 1px 2px rgba(60, 64, 67, 0.3), 0px 1px 3px 1px rgba(60, 64, 67, 0.15);\n",
              "      fill: #174EA6;\n",
              "    }\n",
              "\n",
              "    [theme=dark] .colab-df-convert {\n",
              "      background-color: #3B4455;\n",
              "      fill: #D2E3FC;\n",
              "    }\n",
              "\n",
              "    [theme=dark] .colab-df-convert:hover {\n",
              "      background-color: #434B5C;\n",
              "      box-shadow: 0px 1px 3px 1px rgba(0, 0, 0, 0.15);\n",
              "      filter: drop-shadow(0px 1px 2px rgba(0, 0, 0, 0.3));\n",
              "      fill: #FFFFFF;\n",
              "    }\n",
              "  </style>\n",
              "\n",
              "      <script>\n",
              "        const buttonEl =\n",
              "          document.querySelector('#df-af489b72-d7a5-4795-b4e7-132ce4f3884f button.colab-df-convert');\n",
              "        buttonEl.style.display =\n",
              "          google.colab.kernel.accessAllowed ? 'block' : 'none';\n",
              "\n",
              "        async function convertToInteractive(key) {\n",
              "          const element = document.querySelector('#df-af489b72-d7a5-4795-b4e7-132ce4f3884f');\n",
              "          const dataTable =\n",
              "            await google.colab.kernel.invokeFunction('convertToInteractive',\n",
              "                                                     [key], {});\n",
              "          if (!dataTable) return;\n",
              "\n",
              "          const docLinkHtml = 'Like what you see? Visit the ' +\n",
              "            '<a target=\"_blank\" href=https://colab.research.google.com/notebooks/data_table.ipynb>data table notebook</a>'\n",
              "            + ' to learn more about interactive tables.';\n",
              "          element.innerHTML = '';\n",
              "          dataTable['output_type'] = 'display_data';\n",
              "          await google.colab.output.renderOutput(dataTable, element);\n",
              "          const docLink = document.createElement('div');\n",
              "          docLink.innerHTML = docLinkHtml;\n",
              "          element.appendChild(docLink);\n",
              "        }\n",
              "      </script>\n",
              "    </div>\n",
              "  </div>\n",
              "  "
            ],
            "text/plain": [
              "   Time        V1        V2        V3        V4        V5        V6        V7  \\\n",
              "0   0.0 -1.359807 -0.072781  2.536347  1.378155 -0.338321  0.462388  0.239599   \n",
              "1   0.0  1.191857  0.266151  0.166480  0.448154  0.060018 -0.082361 -0.078803   \n",
              "2   1.0 -1.358354 -1.340163  1.773209  0.379780 -0.503198  1.800499  0.791461   \n",
              "3   1.0 -0.966272 -0.185226  1.792993 -0.863291 -0.010309  1.247203  0.237609   \n",
              "4   2.0 -1.158233  0.877737  1.548718  0.403034 -0.407193  0.095921  0.592941   \n",
              "\n",
              "         V8        V9  ...       V21       V22       V23       V24       V25  \\\n",
              "0  0.098698  0.363787  ... -0.018307  0.277838 -0.110474  0.066928  0.128539   \n",
              "1  0.085102 -0.255425  ... -0.225775 -0.638672  0.101288 -0.339846  0.167170   \n",
              "2  0.247676 -1.514654  ...  0.247998  0.771679  0.909412 -0.689281 -0.327642   \n",
              "3  0.377436 -1.387024  ... -0.108300  0.005274 -0.190321 -1.175575  0.647376   \n",
              "4 -0.270533  0.817739  ... -0.009431  0.798278 -0.137458  0.141267 -0.206010   \n",
              "\n",
              "        V26       V27       V28  Amount  Class  \n",
              "0 -0.189115  0.133558 -0.021053  149.62      0  \n",
              "1  0.125895 -0.008983  0.014724    2.69      0  \n",
              "2 -0.139097 -0.055353 -0.059752  378.66      0  \n",
              "3 -0.221929  0.062723  0.061458  123.50      0  \n",
              "4  0.502292  0.219422  0.215153   69.99      0  \n",
              "\n",
              "[5 rows x 31 columns]"
            ]
          },
          "execution_count": 2,
          "metadata": {},
          "output_type": "execute_result"
        }
      ],
      "source": [
        "import pandas as pd\n",
        "\n",
        "creditcard_df = pd.read_csv(PATH)\n",
        "creditcard_df.head(5)"
      ]
    },
    {
      "cell_type": "code",
      "execution_count": null,
      "metadata": {
        "colab": {
          "base_uri": "https://localhost:8080/"
        },
        "id": "9w-3AiIpxUak",
        "outputId": "ab156def-4252-4db8-c7f5-1962d4d4a0f0"
      },
      "outputs": [
        {
          "data": {
            "text/plain": [
              "(284807, 31)"
            ]
          },
          "execution_count": 3,
          "metadata": {},
          "output_type": "execute_result"
        }
      ],
      "source": [
        "creditcard_df.shape"
      ]
    },
    {
      "cell_type": "markdown",
      "metadata": {
        "id": "DPo1t--wxg2T"
      },
      "source": [
        "## Class-imbalance - fraud transactions"
      ]
    },
    {
      "cell_type": "code",
      "execution_count": null,
      "metadata": {
        "colab": {
          "base_uri": "https://localhost:8080/"
        },
        "id": "O2lB7HJOxh_7",
        "outputId": "453291c1-11aa-41c1-8d1f-397c689a7807"
      },
      "outputs": [
        {
          "data": {
            "text/plain": [
              "0    284315\n",
              "1       492\n",
              "Name: Class, dtype: int64"
            ]
          },
          "execution_count": 4,
          "metadata": {},
          "output_type": "execute_result"
        }
      ],
      "source": [
        "creditcard_df['Class'].value_counts()"
      ]
    },
    {
      "cell_type": "markdown",
      "metadata": {
        "id": "bWXJaG5Jxpsr"
      },
      "source": [
        "## Test Training Dataset"
      ]
    },
    {
      "cell_type": "code",
      "execution_count": null,
      "metadata": {
        "colab": {
          "base_uri": "https://localhost:8080/"
        },
        "id": "W6u-Qdknxsu6",
        "outputId": "000dca55-ce11-4454-8860-a893c5d422e7"
      },
      "outputs": [
        {
          "name": "stdout",
          "output_type": "stream",
          "text": [
            "train rows: 190820, test rows: 93987\n"
          ]
        }
      ],
      "source": [
        "from sklearn.model_selection import train_test_split\n",
        "\n",
        "X = creditcard_df.drop(['Class'],axis=1)\n",
        "y = creditcard_df.Class\n",
        "\n",
        "X_train, X_test, y_train, y_test = train_test_split(X,y,random_state=0, test_size=0.33)\n",
        "\n",
        "print(\"train rows: {}, test rows: {}\".format(X_train.shape[0], X_test.shape[0]))  # rows"
      ]
    },
    {
      "cell_type": "markdown",
      "metadata": {
        "id": "NNO8pIJLx8ds"
      },
      "source": [
        "## Multilayer perceptron classifier"
      ]
    },
    {
      "cell_type": "code",
      "execution_count": null,
      "metadata": {
        "colab": {
          "base_uri": "https://localhost:8080/"
        },
        "id": "L1lAAyNQxxCD",
        "outputId": "9ebfc5ee-de60-4bae-e3d7-de4f6aa1f8ed"
      },
      "outputs": [
        {
          "data": {
            "text/plain": [
              "0.997542213284816"
            ]
          },
          "execution_count": 6,
          "metadata": {},
          "output_type": "execute_result"
        }
      ],
      "source": [
        "from sklearn.neural_network import MLPClassifier\n",
        "\n",
        "mlp = MLPClassifier(random_state=0)\n",
        "mlp.fit(X_train,y_train)\n",
        "\n",
        "y_pred = mlp.predict(X_test)\n",
        "\n",
        "mlp.score(X_test, y_test)"
      ]
    },
    {
      "cell_type": "markdown",
      "metadata": {
        "id": "isyymMBnyKGG"
      },
      "source": [
        "## Confusion matrix"
      ]
    },
    {
      "cell_type": "code",
      "execution_count": null,
      "metadata": {
        "colab": {
          "base_uri": "https://localhost:8080/"
        },
        "id": "NTTXq0OVyUcj",
        "outputId": "eb83fa36-eaf1-4612-cdc4-16b6ca8559dd"
      },
      "outputs": [
        {
          "data": {
            "text/plain": [
              "array([[  127,    35],\n",
              "       [  196, 93629]])"
            ]
          },
          "execution_count": 7,
          "metadata": {},
          "output_type": "execute_result"
        }
      ],
      "source": [
        "from sklearn.metrics import confusion_matrix\n",
        "\n",
        "confusion_matrix(y_test, y_pred, labels=[1,0])"
      ]
    },
    {
      "cell_type": "code",
      "execution_count": null,
      "metadata": {
        "colab": {
          "base_uri": "https://localhost:8080/"
        },
        "id": "RtSxydJrycoq",
        "outputId": "a57795cb-dfd5-4c51-fe2a-08d37887df14"
      },
      "outputs": [
        {
          "name": "stdout",
          "output_type": "stream",
          "text": [
            "accuracy = 99.75%\n",
            "sensitivity = 78.40%\n",
            "specificity = 99.79%\n",
            "\n"
          ]
        }
      ],
      "source": [
        "from sklearn.metrics import accuracy_score\n",
        "\n",
        "\n",
        "tp, fn, fp, tn = confusion_matrix(y_test, y_pred, labels=[1,0]).ravel()\n",
        "specificity = tn / (tn + fp) * 100\n",
        "sensitivity = tp / (tp + fn) * 100\n",
        "accuracy = accuracy_score(y_test, y_pred) * 100\n",
        "\n",
        "print(f\"accuracy = {accuracy:.2f}%\\nsensitivity = {sensitivity:.2f}%\\nspecificity = {specificity:.2f}%\\n\")"
      ]
    },
    {
      "cell_type": "markdown",
      "metadata": {
        "id": "slcwKYc7SZzi"
      },
      "source": [
        "# Changing parameters of mlp"
      ]
    },
    {
      "cell_type": "code",
      "execution_count": null,
      "metadata": {
        "id": "IExlvd8RShAW"
      },
      "outputs": [],
      "source": [
        "from dataclasses import dataclass\n",
        "\n",
        "@dataclass\n",
        "class StatistictsData:\n",
        "    name: str\n",
        "    accuracy: float\n",
        "    sensitivity: float\n",
        "    specificity: float\n",
        "\n",
        "def calculate_statistics(y_test, y_pred):\n",
        "    tn, fp, fn, tp = confusion_matrix(y_test, y_pred).ravel()\n",
        "    specificity = tn / (tn + fp) * 100\n",
        "    sensitivity = tp / (tp + fn) * 100\n",
        "    accuracy = accuracy_score(y_test, y_pred) * 100\n",
        "\n",
        "    return accuracy, sensitivity, specificity"
      ]
    },
    {
      "cell_type": "code",
      "execution_count": null,
      "metadata": {
        "id": "nxmCoV2CSl_G"
      },
      "outputs": [],
      "source": [
        "def run_mlp(X_train, X_test, y_train, **estimator_params):\n",
        "    mlp = MLPClassifier(random_state=0, **estimator_params)\n",
        "    y_pred = mlp.fit(X_train,y_train).fit(X_train, y_train).predict(X_test)\n",
        "    return y_pred"
      ]
    },
    {
      "cell_type": "code",
      "execution_count": null,
      "metadata": {
        "id": "0UJedy7RS2IS"
      },
      "outputs": [],
      "source": [
        "def mlp_evaluation(current_range, mlp_statistics_list, **mlp_params):\n",
        "    y_pred = run_mlp(X_train, X_test, y_train, **mlp_params)\n",
        "    stats = calculate_statistics(y_test, y_pred)\n",
        "    mlp_stats = StatistictsData(current_range, *stats)\n",
        "    mlp_statistics_list.append(mlp_stats)"
      ]
    },
    {
      "cell_type": "code",
      "execution_count": null,
      "metadata": {
        "id": "db1Qb7InTPEu"
      },
      "outputs": [],
      "source": [
        "statistics_hidden_layers = [] # 1 2 3 4 5\n",
        "statistics_n_neurons = [] # 100 200 300 400 500"
      ]
    },
    {
      "cell_type": "code",
      "execution_count": null,
      "metadata": {
        "id": "HCT3z_Z6TUiN"
      },
      "outputs": [],
      "source": [
        "common_range = range(1, 6, 1)\n",
        "\n",
        "for size in common_range:\n",
        "    # statistics hidden layers\n",
        "    mlp_evaluation(size, statistics_hidden_layers, hidden_layer_sizes=(100,)*size)\n",
        "    # statistics n neurons\n",
        "    mlp_evaluation(size, statistics_n_neurons, hidden_layer_sizes=(size*100,))"
      ]
    },
    {
      "cell_type": "code",
      "execution_count": null,
      "metadata": {
        "id": "nPglIZiKfp6N"
      },
      "outputs": [],
      "source": [
        "statistics_hidden_layers_df = pd.DataFrame(statistics_hidden_layers)\n",
        "statistics_hidden_layers_df.rename(columns={'name':'number of hidden layers'}, inplace=True)\n",
        "statistics_n_neurons_df = pd.DataFrame(statistics_n_neurons)\n",
        "statistics_n_neurons_df.rename(columns={'name':'number of neurons'}, inplace=True)\n",
        "grouped_stats_dfs = [statistics_hidden_layers_df, statistics_n_neurons_df]"
      ]
    },
    {
      "cell_type": "code",
      "execution_count": null,
      "metadata": {
        "colab": {
          "base_uri": "https://localhost:8080/",
          "height": 641
        },
        "id": "d6fz4FgCgQFe",
        "outputId": "77104073-df3a-451b-c7a0-eca57d100345"
      },
      "outputs": [
        {
          "data": {
            "image/png": "[encoded data removed]",
            "text/plain": [
              "<Figure size 2160x720 with 3 Axes>"
            ]
          },
          "metadata": {},
          "output_type": "display_data"
        }
      ],
      "source": [
        "import matplotlib.pyplot as plt\n",
        "import matplotlib.ticker as plticker\n",
        "\n",
        "plot_style = {\"marker\": '^', \"linestyle\": '--'}\n",
        "fig, axs = plt.subplots(1, 3, figsize=(30, 10))\n",
        "\n",
        "def plot_grouped_stats(ax, stats, stat_name):\n",
        "    ax.plot(common_range, stats[0][stat_name], label=\"number of hidden layers\", **plot_style)\n",
        "    ax.plot(common_range, stats[1][stat_name], label=\"number of neurons\", **plot_style)\n",
        "    ax.grid(b=True)\n",
        "    ax.legend()\n",
        "\n",
        "for i,stat_name in enumerate([\"accuracy\", \"sensitivity\", \"specificity\"]):\n",
        "    plot_grouped_stats(axs[i], grouped_stats_dfs, stat_name)\n",
        "\n",
        "axs[0].set(xlabel='n', ylabel='accuracy',\n",
        "        title='Accuracy for classifier parameters')\n",
        "axs[1].set(xlabel='n', ylabel='sensitivity',\n",
        "        title='sensitivity for classifier parameters')\n",
        "axs[2].set(xlabel='n', ylabel='specificity',\n",
        "        title='Specificity for classifier parameters')\n",
        "\n",
        "\n",
        "loc = plticker.MultipleLocator(base=5.0)\n",
        "for ax in axs:\n",
        "    ax.xaxis.set_major_locator(loc)\n",
        "\n",
        "plt.show()"
      ]
    },
    {
      "cell_type": "markdown",
      "metadata": {
        "id": "yCuWEoI1gwm3"
      },
      "source": [
        "## Conclusion\n",
        "\n",
        "Accuracy and specificity are on level 99%. Sensitivity is the best for initial parameters, one hidden layer with 100 neurons.\n"
      ]
    },
    {
      "cell_type": "markdown",
      "metadata": {
        "id": "C9XgJQWeyb9V"
      },
      "source": [
        "# Balancing the training dataset"
      ]
    },
    {
      "cell_type": "markdown",
      "metadata": {
        "id": "OlijyTH8yiul"
      },
      "source": [
        "## Under Sampling"
      ]
    },
    {
      "cell_type": "code",
      "execution_count": null,
      "metadata": {
        "id": "v4DFf4PayfZu"
      },
      "outputs": [],
      "source": [
        "from imblearn.under_sampling import RandomUnderSampler\n",
        "\n",
        "sampled_dataset = RandomUnderSampler(random_state=0).fit_resample(X_train, y_train)\n",
        "\n",
        "X_train_under, y_train_under = sampled_dataset"
      ]
    },
    {
      "cell_type": "code",
      "execution_count": null,
      "metadata": {
        "colab": {
          "base_uri": "https://localhost:8080/"
        },
        "id": "f9Xoom-cymz9",
        "outputId": "21db4478-502b-43b9-dd5b-dae64f3111c7"
      },
      "outputs": [
        {
          "data": {
            "text/plain": [
              "0.010352495557896305"
            ]
          },
          "execution_count": 10,
          "metadata": {},
          "output_type": "execute_result"
        }
      ],
      "source": [
        "mlp = MLPClassifier(random_state=0)\n",
        "mlp.fit(X_train_under,y_train_under)\n",
        "\n",
        "y_pred = mlp.predict(X_test)\n",
        "\n",
        "mlp.score(X_test, y_test)"
      ]
    },
    {
      "cell_type": "code",
      "execution_count": null,
      "metadata": {
        "colab": {
          "base_uri": "https://localhost:8080/"
        },
        "id": "BtNfCuU4yyvG",
        "outputId": "110e889a-8837-4a2a-f0a7-c31d477d0322"
      },
      "outputs": [
        {
          "data": {
            "text/plain": [
              "array([[  162,     0],\n",
              "       [93014,   811]])"
            ]
          },
          "execution_count": 11,
          "metadata": {},
          "output_type": "execute_result"
        }
      ],
      "source": [
        "confusion_matrix(y_test, y_pred, labels=[1,0])"
      ]
    },
    {
      "cell_type": "code",
      "execution_count": null,
      "metadata": {
        "colab": {
          "base_uri": "https://localhost:8080/"
        },
        "id": "oB_tkqcCy_rV",
        "outputId": "34bac4c0-aab9-4bab-d61f-ab4e86ece5be"
      },
      "outputs": [
        {
          "name": "stdout",
          "output_type": "stream",
          "text": [
            "accuracy = 1.04%\n",
            "sensitivity = 100.00%\n",
            "specificity = 0.86%\n",
            "\n"
          ]
        }
      ],
      "source": [
        "tp, fn, fp, tn = confusion_matrix(y_test, y_pred, labels=[1,0]).ravel()\n",
        "specificity = tn / (tn + fp) * 100\n",
        "sensitivity = tp / (tp + fn) * 100\n",
        "accuracy = accuracy_score(y_test, y_pred) * 100\n",
        "\n",
        "print(f\"accuracy = {accuracy:.2f}%\\nsensitivity = {sensitivity:.2f}%\\nspecificity = {specificity:.2f}%\\n\")"
      ]
    },
    {
      "cell_type": "markdown",
      "metadata": {
        "id": "hF7pQPcV1D8m"
      },
      "source": [
        "## Over Sampling"
      ]
    },
    {
      "cell_type": "code",
      "execution_count": null,
      "metadata": {
        "id": "KMLQbB5Z1E6V"
      },
      "outputs": [],
      "source": [
        "from imblearn.over_sampling import RandomOverSampler\n",
        "\n",
        "sampled_dataset = RandomOverSampler(random_state=0).fit_resample(X_train, y_train)\n",
        "\n",
        "X_train_over, y_train_over = sampled_dataset"
      ]
    },
    {
      "cell_type": "code",
      "execution_count": null,
      "metadata": {
        "colab": {
          "base_uri": "https://localhost:8080/"
        },
        "id": "xmNosdy_1ILH",
        "outputId": "23ab438b-d874-414a-ac4e-1f05fd0bce34"
      },
      "outputs": [
        {
          "data": {
            "text/plain": [
              "0.972474916743805"
            ]
          },
          "execution_count": 14,
          "metadata": {},
          "output_type": "execute_result"
        }
      ],
      "source": [
        "mlp = MLPClassifier(random_state=0)\n",
        "mlp.fit(X_train_over,y_train_over)\n",
        "\n",
        "y_pred = mlp.predict(X_test)\n",
        "\n",
        "mlp.score(X_test, y_test)"
      ]
    },
    {
      "cell_type": "code",
      "execution_count": null,
      "metadata": {
        "colab": {
          "base_uri": "https://localhost:8080/"
        },
        "id": "fv5opXwe1LpX",
        "outputId": "3307bddb-0921-43aa-a937-20d40fc61b45"
      },
      "outputs": [
        {
          "data": {
            "text/plain": [
              "array([[  147,    15],\n",
              "       [ 2572, 91253]])"
            ]
          },
          "execution_count": 15,
          "metadata": {},
          "output_type": "execute_result"
        }
      ],
      "source": [
        "confusion_matrix(y_test, y_pred, labels=[1,0])"
      ]
    },
    {
      "cell_type": "code",
      "execution_count": null,
      "metadata": {
        "colab": {
          "base_uri": "https://localhost:8080/"
        },
        "id": "CJGxvn2X1NC1",
        "outputId": "b68198a9-a293-4a53-add1-516686ee0357"
      },
      "outputs": [
        {
          "name": "stdout",
          "output_type": "stream",
          "text": [
            "accuracy = 97.25%\n",
            "sensitivity = 90.74%\n",
            "specificity = 97.26%\n",
            "\n"
          ]
        }
      ],
      "source": [
        "tp, fn, fp, tn = confusion_matrix(y_test, y_pred, labels=[1,0]).ravel()\n",
        "specificity = tn / (tn + fp) * 100\n",
        "sensitivity = tp / (tp + fn) * 100\n",
        "accuracy = accuracy_score(y_test, y_pred) * 100\n",
        "\n",
        "print(f\"accuracy = {accuracy:.2f}%\\nsensitivity = {sensitivity:.2f}%\\nspecificity = {specificity:.2f}%\\n\")"
      ]
    },
    {
      "cell_type": "markdown",
      "metadata": {
        "id": "_shs13DA1Zlv"
      },
      "source": [
        "## Smote"
      ]
    },
    {
      "cell_type": "code",
      "execution_count": null,
      "metadata": {
        "id": "1Nomuj281bOe"
      },
      "outputs": [],
      "source": [
        "from imblearn.over_sampling import  SMOTE\n",
        "\n",
        "sampled_dataset = SMOTE(random_state=0).fit_resample(X_train, y_train)\n",
        "\n",
        "X_train_smote, y_train_smote = sampled_dataset"
      ]
    },
    {
      "cell_type": "code",
      "execution_count": null,
      "metadata": {
        "colab": {
          "base_uri": "https://localhost:8080/"
        },
        "id": "hwNLgKdn1dOF",
        "outputId": "c13b4945-cc16-475f-cd3e-233b0d98960f"
      },
      "outputs": [
        {
          "data": {
            "text/plain": [
              "0.9975209337461564"
            ]
          },
          "execution_count": 18,
          "metadata": {},
          "output_type": "execute_result"
        }
      ],
      "source": [
        "mlp = MLPClassifier(random_state=0)\n",
        "mlp.fit(X_train_smote,y_train_smote)\n",
        "\n",
        "y_pred = mlp.predict(X_test)\n",
        "\n",
        "mlp.score(X_test, y_test)"
      ]
    },
    {
      "cell_type": "code",
      "execution_count": null,
      "metadata": {
        "colab": {
          "base_uri": "https://localhost:8080/"
        },
        "id": "MRha_H1d1gIX",
        "outputId": "24287847-9351-4ede-cc49-b0d74198918a"
      },
      "outputs": [
        {
          "data": {
            "text/plain": [
              "array([[  138,    24],\n",
              "       [  209, 93616]])"
            ]
          },
          "execution_count": 19,
          "metadata": {},
          "output_type": "execute_result"
        }
      ],
      "source": [
        "confusion_matrix(y_test, y_pred, labels=[1,0])"
      ]
    },
    {
      "cell_type": "code",
      "execution_count": null,
      "metadata": {
        "colab": {
          "base_uri": "https://localhost:8080/"
        },
        "id": "VPJaHUCS1iVN",
        "outputId": "c7c3d996-52d9-4797-e26a-ea9bb181c2e9"
      },
      "outputs": [
        {
          "name": "stdout",
          "output_type": "stream",
          "text": [
            "accuracy = 99.75%\n",
            "sensitivity = 85.19%\n",
            "specificity = 99.78%\n",
            "\n"
          ]
        }
      ],
      "source": [
        "tp, fn, fp, tn = confusion_matrix(y_test, y_pred, labels=[1,0]).ravel()\n",
        "specificity = tn / (tn + fp) * 100\n",
        "sensitivity = tp / (tp + fn) * 100\n",
        "accuracy = accuracy_score(y_test, y_pred) * 100\n",
        "\n",
        "print(f\"accuracy = {accuracy:.2f}%\\nsensitivity = {sensitivity:.2f}%\\nspecificity = {specificity:.2f}%\\n\")"
      ]
    },
    {
      "cell_type": "markdown",
      "metadata": {
        "id": "AMlp1xeJ2aPl"
      },
      "source": [
        "## Cluster Centroids"
      ]
    },
    {
      "cell_type": "code",
      "execution_count": null,
      "metadata": {
        "id": "Y3oHg9DK2dX9"
      },
      "outputs": [],
      "source": [
        "from imblearn.under_sampling import ClusterCentroids\n",
        "\n",
        "sampled_dataset = ClusterCentroids(random_state=0).fit_resample(X_train, y_train)\n",
        "\n",
        "X_train_cluster, y_train_cluster = sampled_dataset"
      ]
    },
    {
      "cell_type": "code",
      "execution_count": null,
      "metadata": {
        "colab": {
          "base_uri": "https://localhost:8080/"
        },
        "id": "41t3UN3c2zDu",
        "outputId": "29c2c21f-1571-4180-f834-a4b250c0d600"
      },
      "outputs": [
        {
          "data": {
            "text/plain": [
              "0.9970208645876557"
            ]
          },
          "execution_count": 22,
          "metadata": {},
          "output_type": "execute_result"
        }
      ],
      "source": [
        "mlp = MLPClassifier(random_state=0)\n",
        "mlp.fit(X_train_cluster,y_train_cluster)\n",
        "\n",
        "y_pred = mlp.predict(X_test)\n",
        "\n",
        "mlp.score(X_test, y_test)"
      ]
    },
    {
      "cell_type": "code",
      "execution_count": null,
      "metadata": {
        "colab": {
          "base_uri": "https://localhost:8080/"
        },
        "id": "WDIG3Fhz24ll",
        "outputId": "93230324-12bc-4623-91fd-4a76e5e02e9f"
      },
      "outputs": [
        {
          "data": {
            "text/plain": [
              "array([[   34,   128],\n",
              "       [  152, 93673]])"
            ]
          },
          "execution_count": 23,
          "metadata": {},
          "output_type": "execute_result"
        }
      ],
      "source": [
        "confusion_matrix(y_test, y_pred, labels=[1,0])"
      ]
    },
    {
      "cell_type": "code",
      "execution_count": null,
      "metadata": {
        "colab": {
          "base_uri": "https://localhost:8080/"
        },
        "id": "tJHNKNep27AO",
        "outputId": "4277d519-3cf9-4457-f331-5ab0726ecb4a"
      },
      "outputs": [
        {
          "name": "stdout",
          "output_type": "stream",
          "text": [
            "accuracy = 99.70%\n",
            "sensitivity = 20.99%\n",
            "specificity = 99.84%\n",
            "\n"
          ]
        }
      ],
      "source": [
        "tp, fn, fp, tn = confusion_matrix(y_test, y_pred, labels=[1,0]).ravel()\n",
        "specificity = tn / (tn + fp) * 100\n",
        "sensitivity = tp / (tp + fn) * 100\n",
        "accuracy = accuracy_score(y_test, y_pred) * 100\n",
        "\n",
        "print(f\"accuracy = {accuracy:.2f}%\\nsensitivity = {sensitivity:.2f}%\\nspecificity = {specificity:.2f}%\\n\")"
      ]
    },
    {
      "cell_type": "markdown",
      "metadata": {
        "id": "-sw2OqFCHD8F"
      },
      "source": [
        "## SMOTETomek"
      ]
    },
    {
      "cell_type": "code",
      "execution_count": null,
      "metadata": {
        "id": "NqbFfcAtHFPW"
      },
      "outputs": [],
      "source": [
        "from imblearn.combine import  SMOTETomek\n",
        "\n",
        "sampled_dataset = SMOTETomek(random_state=0).fit_resample(X_train, y_train)\n",
        "\n",
        "X_train_smote, y_train_smote = sampled_dataset"
      ]
    },
    {
      "cell_type": "code",
      "execution_count": null,
      "metadata": {
        "colab": {
          "background_save": true
        },
        "id": "Lj14tHRUHXJG",
        "outputId": "de43e8a1-7bd1-4382-f910-f105387a63c7"
      },
      "outputs": [
        {
          "data": {
            "text/plain": [
              "0.9933075850915553"
            ]
          },
          "execution_count": 10,
          "metadata": {},
          "output_type": "execute_result"
        }
      ],
      "source": [
        "mlp = MLPClassifier(random_state=0)\n",
        "mlp.fit(X_train_smote,y_train_smote)\n",
        "\n",
        "y_pred = mlp.predict(X_test)\n",
        "\n",
        "mlp.score(X_test, y_test)"
      ]
    },
    {
      "cell_type": "code",
      "execution_count": 11,
      "metadata": {
        "id": "JEiv3Ev5HUzI",
        "colab": {
          "base_uri": "https://localhost:8080/"
        },
        "outputId": "acc88266-79c4-494e-94de-b203938a99cf"
      },
      "outputs": [
        {
          "output_type": "stream",
          "name": "stdout",
          "text": [
            "accuracy = 99.33%\n",
            "sensitivity = 86.42%\n",
            "specificity = 99.35%\n",
            "\n"
          ]
        }
      ],
      "source": [
        "tp, fn, fp, tn = confusion_matrix(y_test, y_pred, labels=[1,0]).ravel()\n",
        "specificity = tn / (tn + fp) * 100\n",
        "sensitivity = tp / (tp + fn) * 100\n",
        "accuracy = accuracy_score(y_test, y_pred) * 100\n",
        "\n",
        "print(f\"accuracy = {accuracy:.2f}%\\nsensitivity = {sensitivity:.2f}%\\nspecificity = {specificity:.2f}%\\n\")"
      ]
    },
    {
      "cell_type": "markdown",
      "source": [
        "## Conclusion\n",
        "\n",
        "For MLP algorithm with Over Sampling for training dataset is the best to improve sensitivity and the model does not lose so much accuracy and specificity. SMOTE and SMOTETOMEK are also good."
      ],
      "metadata": {
        "id": "NaPqIctqc_Fj"
      }
    }
  ],
  "metadata": {
    "colab": {
      "provenance": []
    },
    "gpuClass": "standard",
    "kernelspec": {
      "display_name": "Python 3",
      "name": "python3"
    },
    "language_info": {
      "name": "python"
    }
  },
  "nbformat": 4,
  "nbformat_minor": 0
}